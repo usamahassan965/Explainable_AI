{
 "cells": [
  {
   "cell_type": "raw",
   "metadata": {},
   "source": [
    "Occlusion experiment-"
   ]
  },
  {
   "cell_type": "code",
   "execution_count": 5,
   "metadata": {},
   "outputs": [],
   "source": [
    "import keras\n",
    "import matplotlib.pyplot as plt\n",
    "import numpy as np\n",
    "import math\n",
    "import seaborn as sns"
   ]
  },
  {
   "cell_type": "code",
   "execution_count": 2,
   "metadata": {
    "collapsed": true
   },
   "outputs": [],
   "source": [
    "mnist=keras.datasets.mnist\n",
    "(x_train,y_train), (x_test,y_test)=mnist.load_data()"
   ]
  },
  {
   "cell_type": "code",
   "execution_count": 3,
   "metadata": {
    "collapsed": true
   },
   "outputs": [],
   "source": [
    "x_train = x_train.reshape(x_train.shape[0], 28, 28,1).astype('float32')\n",
    "x_test = x_test.reshape(x_test.shape[0], 28, 28,1).astype('float32')\n",
    "x_train=x_train/255.0\n",
    "x_test=x_test/255.0\n",
    "y_train=keras.utils.to_categorical(y_train)\n",
    "y_test=keras.utils.to_categorical(y_test)"
   ]
  },
  {
   "cell_type": "code",
   "execution_count": 6,
   "metadata": {
    "collapsed": true
   },
   "outputs": [],
   "source": [
    "# Load pretrained convnet\n",
    "model=keras.models.load_model(r\"C:\\Users\\USER\\Desktop\\inverting convolutional layers\\Max pooling\\model.pkl\")"
   ]
  },
  {
   "cell_type": "code",
   "execution_count": 7,
   "metadata": {},
   "outputs": [
    {
     "data": {
      "text/plain": [
       "(1, 28, 28, 1)"
      ]
     },
     "execution_count": 7,
     "metadata": {},
     "output_type": "execute_result"
    }
   ],
   "source": [
    "image=np.expand_dims(x_train[4],axis=0)\n",
    "image.shape"
   ]
  },
  {
   "cell_type": "code",
   "execution_count": 8,
   "metadata": {
    "collapsed": true
   },
   "outputs": [],
   "source": [
    "\n",
    "\n",
    "occluding_size = 4 \n",
    "occluding_pixel = 0\n",
    "occluding_stride = 4\n",
    "\n",
    "_,height, width,_= image.shape\n",
    "\n",
    "output_height = int(math.ceil((height-occluding_size)/occluding_stride+1))\n",
    "output_width = int(math.ceil((width-occluding_size)/occluding_stride+1))\n",
    "\n",
    "heatmap = np.zeros((output_height, output_width))\n",
    "\n",
    "for h in range(output_height):\n",
    "    for w in range(output_width):\n",
    "        #occluder region\n",
    "        h_start = h*occluding_stride\n",
    "        w_start = w*occluding_stride\n",
    "        h_end = min(height, h_start + occluding_size)\n",
    "        w_end = min(width, w_start + occluding_size)\n",
    "\n",
    "        input_image = np.array(image, copy=True) \n",
    "        input_image[:,h_start:h_end,w_start:w_end,:] =  occluding_pixel\n",
    "        probs = model.predict(input_image)[0]\n",
    "        heatmap[h,w] = probs[9] # the probability of the correct class\n",
    "\n"
   ]
  },
  {
   "cell_type": "code",
   "execution_count": 13,
   "metadata": {},
   "outputs": [
    {
     "data": {
      "image/png": "[encoded data removed]",
      "text/plain": [
       "<Figure size 576x396 with 2 Axes>"
      ]
     },
     "metadata": {},
     "output_type": "display_data"
    }
   ],
   "source": [
    "fig = sns.heatmap(heatmap,xticklabels=False, yticklabels=False,cmap=\"gray\")\n",
    "plt.show()"
   ]
  },
  {
   "cell_type": "code",
   "execution_count": 14,
   "metadata": {},
   "outputs": [
    {
     "data": {
      "image/png": "[encoded data removed]",
      "text/plain": [
       "<Figure size 576x396 with 1 Axes>"
      ]
     },
     "metadata": {},
     "output_type": "display_data"
    }
   ],
   "source": [
    "#Original image\n",
    "fig=plt.imshow(np.squeeze(x_train[4]))\n",
    "plt.show()"
   ]
  },
  {
   "cell_type": "code",
   "execution_count": null,
   "metadata": {
    "collapsed": true
   },
   "outputs": [],
   "source": []
  }
 ],
 "metadata": {
  "kernelspec": {
   "display_name": "Python 3",
   "language": "python",
   "name": "python3"
  },
  "language_info": {
   "codemirror_mode": {
    "name": "ipython",
    "version": 3
   },
   "file_extension": ".py",
   "mimetype": "text/x-python",
   "name": "python",
   "nbconvert_exporter": "python",
   "pygments_lexer": "ipython3",
   "version": "3.6.1"
  }
 },
 "nbformat": 4,
 "nbformat_minor": 2
}
